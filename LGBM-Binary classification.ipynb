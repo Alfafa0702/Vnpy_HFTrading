{
 "cells": [
  {
   "cell_type": "code",
   "execution_count": 21,
   "metadata": {
    "execution": {
     "iopub.execute_input": "2025-04-24T12:51:38.706074Z",
     "iopub.status.busy": "2025-04-24T12:51:38.705711Z",
     "iopub.status.idle": "2025-04-24T12:51:58.750890Z",
     "shell.execute_reply": "2025-04-24T12:51:58.750051Z",
     "shell.execute_reply.started": "2025-04-24T12:51:38.706049Z"
    },
    "trusted": true
   },
   "outputs": [],
   "source": [
    "import sqlite3\n",
    "import datetime\n",
    "import pandas as pd\n",
    "\n",
    "# 连接到 SQLite 数据库\n",
    "conn = sqlite3.connect('/kaggle/input/bitcoin-data/bitcoin_data.db')\n",
    "cursor = conn.cursor()\n",
    "\n",
    "# 执行 SQL 查询\n",
    "query_1m = f\"SELECT * FROM bitcoin_data_1m\"\n",
    "# query_3m = f\"SELECT * FROM bitcoin_data_3m\"\n",
    "# query_5m = f\"SELECT * FROM bitcoin_data_5m\"\n",
    "# query_15m = f\"SELECT * FROM bitcoin_data_15m\"\n",
    "\n",
    "# 获取查询结果-df格式\n",
    "data_1m = pd.read_sql(query_1m, conn)\n",
    "# data_3m = pd.read_sql(query_3m, conn)\n",
    "# data_5m = pd.read_sql(query_5m, conn)\n",
    "# data_15m = pd.read_sql(query_15m, conn)\n",
    "\n",
    "# 关闭数据库连接\n",
    "conn.close()"
   ]
  },
  {
   "cell_type": "code",
   "execution_count": 22,
   "metadata": {
    "execution": {
     "iopub.execute_input": "2025-04-24T12:51:58.752596Z",
     "iopub.status.busy": "2025-04-24T12:51:58.752284Z",
     "iopub.status.idle": "2025-04-24T12:52:01.585517Z",
     "shell.execute_reply": "2025-04-24T12:52:01.584667Z",
     "shell.execute_reply.started": "2025-04-24T12:51:58.752567Z"
    },
    "trusted": true
   },
   "outputs": [],
   "source": [
    "def process_timestamp(df, timestamp_col='Open_time'):\n",
    "    \"\"\"\n",
    "    处理时间戳列：\n",
    "    1. 将时间戳列转换为字符串，检查长度。\n",
    "    2. 若长度为16（毫秒级时间戳），则转为秒级（除以1000）。\n",
    "    3. 最终确保时间戳为整数类型。\n",
    "    \"\"\"\n",
    "    # 转换为字符串检查长度\n",
    "    df[timestamp_col] = df[timestamp_col].astype(str)\n",
    "    \n",
    "    # 处理时间戳（毫秒转秒）\n",
    "    df[timestamp_col] = df[timestamp_col].apply(\n",
    "        lambda x: int(x) // 1000 if len(x) == 16 else int(x)\n",
    "    )\n",
    "    \n",
    "    # 确保为整数类型\n",
    "    df[timestamp_col] = df[timestamp_col].astype(int)\n",
    "    df[timestamp_col] = pd.to_datetime(df[timestamp_col], unit='ms')\n",
    "    return df\n",
    "\n",
    "data_1m = process_timestamp(data_1m)"
   ]
  },
  {
   "cell_type": "code",
   "execution_count": 23,
   "metadata": {
    "execution": {
     "iopub.execute_input": "2025-04-24T12:53:04.956186Z",
     "iopub.status.busy": "2025-04-24T12:53:04.955820Z",
     "iopub.status.idle": "2025-04-24T12:53:05.143304Z",
     "shell.execute_reply": "2025-04-24T12:53:05.142344Z",
     "shell.execute_reply.started": "2025-04-24T12:53:04.956162Z"
    },
    "trusted": true
   },
   "outputs": [],
   "source": [
    "df_train = data_1m[(data_1m['Open_time'] >= '2022-01-01 00:00:00') & (data_1m['Open_time'] < '2025-01-01 00:00:00')]\n",
    "df_test = data_1m[(data_1m['Open_time'] >= '2025-01-01 00:00:00') & (data_1m['Open_time'] < '2025-05-01 00:00:00')]"
   ]
  },
  {
   "cell_type": "markdown",
   "metadata": {},
   "source": [
    "### 特征获取"
   ]
  },
  {
   "cell_type": "code",
   "execution_count": 4,
   "metadata": {
    "execution": {
     "iopub.execute_input": "2025-04-21T06:28:25.694730Z",
     "iopub.status.busy": "2025-04-21T06:28:25.694419Z",
     "iopub.status.idle": "2025-04-21T06:28:25.712468Z",
     "shell.execute_reply": "2025-04-21T06:28:25.711529Z",
     "shell.execute_reply.started": "2025-04-21T06:28:25.694706Z"
    },
    "trusted": true
   },
   "outputs": [],
   "source": [
    "import pandas as pd\n",
    "import numpy as np\n",
    "\n",
    "def calc_sma_diff(close, timeperiod_short, timeperiod_long):\n",
    "    res_short = close[-timeperiod_short:].mean()\n",
    "    res_long = close[-timeperiod_long:].mean()\n",
    "    res = (res_long - res_short) / res_long\n",
    "    return res\n",
    "\n",
    "def calc_bbands(close, timeperiod, std=2):\n",
    "    close_std = close[-timeperiod:].std(ddof=0)\n",
    "    rol = close[-timeperiod:].mean()\n",
    "    upper = rol + close_std * std\n",
    "    lower = rol - close_std * std\n",
    "    res = (upper - close[-1]) / (upper - lower)\n",
    "    return res\n",
    "\n",
    "def calc_rsi(close, timeperiod):\n",
    "    diff = np.diff(close[-(timeperiod+1):])\n",
    "    A = diff[diff>0].sum() / timeperiod\n",
    "    B = -diff[diff<0].sum() / timeperiod\n",
    "    rsi = 100 * A / (A + B)\n",
    "    return rsi\n",
    "\n",
    "def calc_atr(high, low, close, timeperiod):\n",
    "    A = high[-timeperiod:] - close[-(timeperiod+1):-1]\n",
    "    B = close[-(timeperiod+1):-1] - low[-timeperiod:]\n",
    "    C = high[-timeperiod:] - low[-timeperiod:]\n",
    "    res = np.vstack((A, B, C)).max(axis=0).mean()\n",
    "    return res\n",
    "\n",
    "def calc_natr(high, low, close, timeperiod):\n",
    "    res = calc_atr(high, low, close, timeperiod) / close[-1]\n",
    "    return res\n",
    "\n",
    "def calc_minus_di(high, low, close, timeperiod):\n",
    "    high_diff = np.diff(high[-(timeperiod+1):])\n",
    "    low_diff = np.diff(low[-(timeperiod+1):])\n",
    "    high_diff[(high_diff<0)] = 0\n",
    "    low_diff[(low_diff<0)] = 0\n",
    "    low_diff[(high_diff>low_diff)] = 0\n",
    "    tr = calc_atr(high, low, close, timeperiod)*timeperiod\n",
    "    res = 100 * low_diff.sum() / tr\n",
    "    return res\n",
    "\n",
    "def calc_plus_di(high, low, close, timeperiod):\n",
    "    high_diff = np.diff(high[-(timeperiod+1):])\n",
    "    low_diff = np.diff(low[-(timeperiod+1):])\n",
    "    high_diff[(high_diff<0)] = 0\n",
    "    low_diff[(low_diff<0)] = 0\n",
    "    high_diff[(high_diff<low_diff)] = 0\n",
    "    tr = calc_atr(high, low, close, timeperiod)*timeperiod\n",
    "    res = 100 * high_diff.sum() / tr\n",
    "    return res\n",
    "\n",
    "def calc_log_ret(close, lag=0):\n",
    "    return np.log(close[-(1+15*lag)] / close[-(1+15*(lag+1))])\n",
    "\n",
    "def upper_shadow_15_perc(high, close, open_, lag=0):\n",
    "    if lag:\n",
    "        return high[-15*(lag+1):-15*lag].max() * 100 / np.maximum(close[-15*lag-1], open_[-15*(lag+1)-1])\n",
    "    else:\n",
    "        return high[-15:].max() * 100 / np.maximum(close[-1], open_[-16])\n",
    "\n",
    "def lower_shadow_15_perc(low, close, open_, lag=0):\n",
    "    if lag:\n",
    "        return np.minimum(close[-15*lag-1], open_[-15*(lag+1)-1]) * 100 / low[-15*(lag+1):-15*lag].min()\n",
    "    else:\n",
    "        return np.minimum(close[-1], open_[-16]) * 100 / low[-15:].min()\n",
    "\n",
    "# 主动买入相关\n",
    "def taker_buy_ratio_base(volume, taker_buy_base_asset_volume, window=15):\n",
    "    vol = volume[-window:].sum()\n",
    "    buy = taker_buy_base_asset_volume[-window:].sum()\n",
    "    return buy / vol if vol > 0 else 0\n",
    "\n",
    "def taker_buy_ratio_quote(quote_asset_volume, taker_buy_quote_asset_volume, window=15):\n",
    "    vol = quote_asset_volume[-window:].sum()\n",
    "    buy = taker_buy_quote_asset_volume[-window:].sum()\n",
    "    return buy / vol if vol > 0 else 0\n",
    "\n",
    "def taker_buy_strength_diff(taker_buy_base_asset_volume, short=15, long=60):\n",
    "    short_mean = taker_buy_base_asset_volume[-short:].mean()\n",
    "    long_mean = taker_buy_base_asset_volume[-long:].mean()\n",
    "    return short_mean - long_mean"
   ]
  },
  {
   "cell_type": "code",
   "execution_count": 5,
   "metadata": {
    "execution": {
     "iopub.execute_input": "2025-04-21T06:28:44.099642Z",
     "iopub.status.busy": "2025-04-21T06:28:44.099332Z",
     "iopub.status.idle": "2025-04-21T06:28:44.109099Z",
     "shell.execute_reply": "2025-04-21T06:28:44.108013Z",
     "shell.execute_reply.started": "2025-04-21T06:28:44.099622Z"
    },
    "trusted": true
   },
   "outputs": [],
   "source": [
    "def get_features(df, open_, high, low, close, volume, \n",
    "                 quote_asset_volume, taker_buy_base_asset_volume, taker_buy_quote_asset_volume):\n",
    "    # close: 当前行向前一共 row_num = 24*4*4*4*4 + 50 行，最后一行就是当前行\n",
    "    res = []\n",
    "    res.append(calc_sma_diff(close, 12, 26))\n",
    "    res.append(calc_sma_diff(close, 12*4*4, 24*4*4))\n",
    "    res.append(calc_sma_diff(close, 12*4*4*4, 24*4*4*4))\n",
    "    res.append(calc_sma_diff(close, 12*4*4*4*4, 24*4*4*4*4))\n",
    "    res.append(calc_sma_diff(volume, 12*4*4, 24*4*4))\n",
    "    res.append(calc_rsi(close, 14*4))\n",
    "    res.append(calc_natr(high, low, close, 14*4*4*4))\n",
    "    res.append(calc_minus_di(high, low, close, 14))\n",
    "    res.append(calc_minus_di(high, low, close, 14*4*4*4))\n",
    "    res.append(calc_plus_di(high, low, close, 14*4))\n",
    "    res.append(calc_plus_di(high, low, close, 14*4*4*4))\n",
    "    res.append(calc_log_ret(close))\n",
    "    res.append(calc_log_ret(close, lag=1))\n",
    "    res.append(calc_log_ret(close, lag=2))\n",
    "    res.append(upper_shadow_15_perc(high, close, open_))\n",
    "    res.append(lower_shadow_15_perc(low, close, open_))\n",
    "    res.append(calc_bbands(close, 5*4*2))\n",
    "    res.append(calc_bbands(close, 5*4*4))\n",
    "    res.append(calc_bbands(close, 5*4*4*2))\n",
    "    res.append(calc_bbands(close, 5*4*4*4))\n",
    "    # 主动买入特征\n",
    "    res.append(taker_buy_ratio_base(volume, taker_buy_base_asset_volume, window=15))\n",
    "    res.append(taker_buy_ratio_quote(quote_asset_volume, taker_buy_quote_asset_volume, window=15))\n",
    "    res.append(taker_buy_strength_diff(taker_buy_base_asset_volume, short=15, long=60))\n",
    "    \n",
    "    return res"
   ]
  },
  {
   "cell_type": "code",
   "execution_count": 8,
   "metadata": {
    "execution": {
     "iopub.execute_input": "2025-04-20T15:39:16.050535Z",
     "iopub.status.busy": "2025-04-20T15:39:16.050231Z",
     "iopub.status.idle": "2025-04-20T16:30:19.665886Z",
     "shell.execute_reply": "2025-04-20T16:30:19.664596Z",
     "shell.execute_reply.started": "2025-04-20T15:39:16.050510Z"
    },
    "trusted": true
   },
   "outputs": [
    {
     "name": "stderr",
     "output_type": "stream",
     "text": [
      "644364it [18:55, 597.41it/s]/tmp/ipykernel_31/93982887.py:43: RuntimeWarning: divide by zero encountered in scalar divide\n",
      "  res = 100 * low_diff.sum() / tr\n",
      "/tmp/ipykernel_31/93982887.py:43: RuntimeWarning: invalid value encountered in scalar divide\n",
      "  res = 100 * low_diff.sum() / tr\n",
      "/tmp/ipykernel_31/93982887.py:15: RuntimeWarning: invalid value encountered in scalar divide\n",
      "  res = (upper - close[-1]) / (upper - lower)\n",
      "/tmp/ipykernel_31/93982887.py:22: RuntimeWarning: invalid value encountered in scalar divide\n",
      "  rsi = 100 * A / (A + B)\n",
      "/tmp/ipykernel_31/93982887.py:53: RuntimeWarning: invalid value encountered in scalar divide\n",
      "  res = 100 * high_diff.sum() / tr\n",
      "1578160it [47:15, 556.53it/s]\n",
      "129600it [03:37, 595.82it/s]\n"
     ]
    }
   ],
   "source": [
    "def extract_features(df):\n",
    "    \n",
    "    return get_features(\n",
    "        df,\n",
    "        df[\"Open\"].values,\n",
    "        df[\"High\"].values,\n",
    "        df[\"Low\"].values,\n",
    "        df[\"Close\"].values,\n",
    "        df[\"Volume\"].values,\n",
    "        df[\"Quote_asset_volume\"].values,\n",
    "        df[\"Taker_buy_base_asset_volume\"].values,\n",
    "        df[\"Taker_buy_quote_asset_volume\"].values\n",
    "    )\n",
    "    \n",
    "def get_dataset_features(df):\n",
    "    row_num = 24*4*4*4*4 + 50\n",
    "    feature_names = [f'feature{i+1}' for i in range(23)]\n",
    "    idx = 0\n",
    "\n",
    "    # 用于收集所有样本\n",
    "    records = []\n",
    "    import tqdm\n",
    "    for date, _ in tqdm.tqdm(df.iterrows()):\n",
    "        if idx < row_num:\n",
    "            idx += 1\n",
    "            continue\n",
    "        current_index = idx\n",
    "        start_index = max(0, current_index - row_num)\n",
    "        new_df = df.iloc[start_index:current_index + 1].copy()\n",
    "\n",
    "        idx += 1\n",
    "        features = extract_features(new_df)\n",
    "        records.append([date] + list(features))\n",
    "\n",
    "    final_feature_df = pd.DataFrame(records, columns=['idx'] + feature_names)\n",
    "    return final_feature_df\n",
    "    \n",
    "final_feature_df_train = get_dataset_features(df_train)\n",
    "final_feature_df_test = get_dataset_features(df_test)\n",
    "# final_feature_df = get_dataset_features(data_1m)\n"
   ]
  },
  {
   "cell_type": "markdown",
   "metadata": {},
   "source": [
    "### 直接读取特征进行建模"
   ]
  },
  {
   "cell_type": "code",
   "execution_count": 3,
   "metadata": {
    "execution": {
     "iopub.execute_input": "2025-04-24T12:48:54.445500Z",
     "iopub.status.busy": "2025-04-24T12:48:54.444946Z",
     "iopub.status.idle": "2025-04-24T12:49:01.186879Z",
     "shell.execute_reply": "2025-04-24T12:49:01.185885Z",
     "shell.execute_reply.started": "2025-04-24T12:48:54.445466Z"
    },
    "trusted": true
   },
   "outputs": [],
   "source": [
    "import pandas as pd\n",
    "import numpy as np\n",
    "import lightgbm as lgb\n",
    "from sklearn.preprocessing import StandardScaler\n",
    "from sklearn.model_selection import TimeSeriesSplit, train_test_split\n",
    "from sklearn.metrics import classification_report, roc_auc_score, confusion_matrix\n",
    "import matplotlib.pyplot as plt\n",
    "import seaborn as sns\n",
    "import tqdm"
   ]
  },
  {
   "cell_type": "code",
   "execution_count": 24,
   "metadata": {
    "execution": {
     "iopub.execute_input": "2025-04-24T12:53:12.841004Z",
     "iopub.status.busy": "2025-04-24T12:53:12.840585Z",
     "iopub.status.idle": "2025-04-24T12:53:13.119312Z",
     "shell.execute_reply": "2025-04-24T12:53:13.118107Z",
     "shell.execute_reply.started": "2025-04-24T12:53:12.840952Z"
    },
    "trusted": true
   },
   "outputs": [
    {
     "name": "stderr",
     "output_type": "stream",
     "text": [
      "/usr/local/lib/python3.11/dist-packages/pandas/core/computation/expressions.py:73: RuntimeWarning: invalid value encountered in greater\n",
      "  return op(a, b)\n",
      "/usr/local/lib/python3.11/dist-packages/pandas/core/computation/expressions.py:73: RuntimeWarning: invalid value encountered in greater\n",
      "  return op(a, b)\n"
     ]
    }
   ],
   "source": [
    "def construct_labels(df, horizon=15):\n",
    "    \"\"\"\n",
    "    根据未来horizon分钟的收益率生成二分类标签\n",
    "    \"\"\"\n",
    "    df = df.copy()\n",
    "    df[\"future_return\"] = np.log(df[\"Close\"].shift(-horizon) / df[\"Close\"])\n",
    "    df[\"label\"] = (df[\"future_return\"] > 0).astype(int)\n",
    "    return df\n",
    "\n",
    "# 添加标签\n",
    "df_train_labeled = construct_labels(df_train)\n",
    "df_test_labeled = construct_labels(df_test)\n",
    "\n",
    "df_train_labeled.dropna(subset=[\"future_return\"], inplace=True)\n",
    "df_test_labeled.dropna(subset=[\"future_return\"], inplace=True)"
   ]
  },
  {
   "cell_type": "code",
   "execution_count": 32,
   "metadata": {
    "execution": {
     "iopub.execute_input": "2025-04-24T12:54:48.578178Z",
     "iopub.status.busy": "2025-04-24T12:54:48.577778Z",
     "iopub.status.idle": "2025-04-24T12:54:49.182354Z",
     "shell.execute_reply": "2025-04-24T12:54:49.181226Z",
     "shell.execute_reply.started": "2025-04-24T12:54:48.578150Z"
    },
    "trusted": true
   },
   "outputs": [],
   "source": [
    "# 把标签 merge 回特征数据上，按时间对齐\n",
    "final_feature_df_train = final_feature_df_train.merge(\n",
    "    df_train_labeled[\"label\"],\n",
    "    left_on=\"idx\",\n",
    "    right_index=True,\n",
    "    how=\"left\"\n",
    ")\n",
    "\n",
    "final_feature_df_test = final_feature_df_test.merge(\n",
    "    df_test_labeled[\"label\"],\n",
    "    left_on=\"idx\",\n",
    "    right_index=True,\n",
    "    how=\"left\"\n",
    ")\n",
    "\n",
    "# 去掉有缺失标签的样本（因为shift后的最后15分钟没有标签）\n",
    "final_feature_df_train.dropna(subset=[\"label\"], inplace=True)\n",
    "final_feature_df_test.dropna(subset=[\"label\"], inplace=True)\n",
    "\n",
    "# X, y 分开\n",
    "X_train = final_feature_df_train.drop(columns=[\"idx\", \"label\"])\n",
    "y_train = final_feature_df_train[\"label\"].astype(int)\n",
    "\n",
    "X_test = final_feature_df_test.drop(columns=[\"idx\", \"label\"])\n",
    "y_test = final_feature_df_test[\"label\"].astype(int)\n"
   ]
  },
  {
   "cell_type": "code",
   "execution_count": 34,
   "metadata": {
    "execution": {
     "iopub.execute_input": "2025-04-24T12:55:03.019902Z",
     "iopub.status.busy": "2025-04-24T12:55:03.019602Z",
     "iopub.status.idle": "2025-04-24T12:55:33.995549Z",
     "shell.execute_reply": "2025-04-24T12:55:33.994626Z",
     "shell.execute_reply.started": "2025-04-24T12:55:03.019878Z"
    },
    "trusted": true
   },
   "outputs": [
    {
     "name": "stdout",
     "output_type": "stream",
     "text": [
      "Training until validation scores don't improve for 100 rounds\n",
      "Early stopping, best iteration is:\n",
      "[75]\tvalid_0's binary_logloss: 0.692375\n",
      "\n",
      "Model Evaluation:\n",
      "-----------------\n",
      "Accuracy: 0.5154346751383813\n",
      "Precision: 0.5122000030788652\n",
      "Recall: 0.5421011470281544\n",
      "F1 Score: 0.5267265603356157\n",
      "ROC AUC: 0.5218193967250515\n"
     ]
    }
   ],
   "source": [
    "### 二分类\n",
    "# 导入库\n",
    "import lightgbm as lgb\n",
    "from sklearn.metrics import accuracy_score, precision_score, recall_score, f1_score, roc_auc_score, confusion_matrix\n",
    "import matplotlib.pyplot as plt\n",
    "import seaborn as sns\n",
    "\n",
    "# 1. 准备数据\n",
    "train_data = lgb.Dataset(X_train, label=y_train)\n",
    "test_data = lgb.Dataset(X_test, label=y_test, reference=train_data)\n",
    "\n",
    "# 2. 设置参数\n",
    "params = {\n",
    "    'objective': 'binary',\n",
    "    'metric': 'binary_logloss',\n",
    "    'boosting_type': 'gbdt',\n",
    "    'num_leaves': 100,\n",
    "    'learning_rate': 0.01,\n",
    "    'feature_fraction': 0.9,\n",
    "    'bagging_fraction': 0.8,\n",
    "    'bagging_freq': 5,\n",
    "    'verbose': 0,\n",
    "    'seed': 42,\n",
    "    'n_jobs': -1,\n",
    "    'scale_pos_weight': float(len(y_train) - sum(y_train)) / sum(y_train)  # 数据不平衡时调整该参数\n",
    "}\n",
    "\n",
    "# 3. 训练模型\n",
    "num_round = 24*4*4*4*4 + 50\n",
    "bst = lgb.train(params,\n",
    "                train_data,\n",
    "                num_round,\n",
    "                valid_sets=[test_data],\n",
    "                callbacks=[lgb.early_stopping(stopping_rounds=100)])\n",
    "\n",
    "# 4. 评估模型\n",
    "y_pred = bst.predict(X_test, num_iteration=bst.best_iteration)\n",
    "y_pred_class = (y_pred > 0.5).astype(int)\n",
    "\n",
    "print(\"\\nModel Evaluation:\")\n",
    "print(\"-----------------\")\n",
    "print(\"Accuracy:\", accuracy_score(y_test, y_pred_class))\n",
    "print(\"Precision:\", precision_score(y_test, y_pred_class))\n",
    "print(\"Recall:\", recall_score(y_test, y_pred_class))\n",
    "print(\"F1 Score:\", f1_score(y_test, y_pred_class))\n",
    "print(\"ROC AUC:\", roc_auc_score(y_test, y_pred))\n"
   ]
  },
  {
   "cell_type": "code",
   "execution_count": 35,
   "metadata": {
    "execution": {
     "iopub.execute_input": "2025-04-24T12:57:18.668370Z",
     "iopub.status.busy": "2025-04-24T12:57:18.668062Z",
     "iopub.status.idle": "2025-04-24T12:57:19.448044Z",
     "shell.execute_reply": "2025-04-24T12:57:19.447134Z",
     "shell.execute_reply.started": "2025-04-24T12:57:18.668350Z"
    },
    "trusted": true
   },
   "outputs": [
    {
     "data": {
      "text/html": [
       "<div>\n",
       "<style scoped>\n",
       "    .dataframe tbody tr th:only-of-type {\n",
       "        vertical-align: middle;\n",
       "    }\n",
       "\n",
       "    .dataframe tbody tr th {\n",
       "        vertical-align: top;\n",
       "    }\n",
       "\n",
       "    .dataframe thead th {\n",
       "        text-align: right;\n",
       "    }\n",
       "</style>\n",
       "<table border=\"1\" class=\"dataframe\">\n",
       "  <thead>\n",
       "    <tr style=\"text-align: right;\">\n",
       "      <th></th>\n",
       "      <th>idx</th>\n",
       "      <th>label</th>\n",
       "      <th>pedict_label</th>\n",
       "      <th>pct</th>\n",
       "      <th>adjusted_true_returns</th>\n",
       "    </tr>\n",
       "  </thead>\n",
       "  <tbody>\n",
       "    <tr>\n",
       "      <th>0</th>\n",
       "      <td>3876753</td>\n",
       "      <td>0.0</td>\n",
       "      <td>0</td>\n",
       "      <td>-0.000366</td>\n",
       "      <td>1.000000</td>\n",
       "    </tr>\n",
       "    <tr>\n",
       "      <th>1</th>\n",
       "      <td>3876754</td>\n",
       "      <td>0.0</td>\n",
       "      <td>0</td>\n",
       "      <td>-0.000331</td>\n",
       "      <td>1.000000</td>\n",
       "    </tr>\n",
       "    <tr>\n",
       "      <th>2</th>\n",
       "      <td>3876755</td>\n",
       "      <td>0.0</td>\n",
       "      <td>0</td>\n",
       "      <td>-0.000326</td>\n",
       "      <td>1.000000</td>\n",
       "    </tr>\n",
       "    <tr>\n",
       "      <th>3</th>\n",
       "      <td>3876756</td>\n",
       "      <td>0.0</td>\n",
       "      <td>0</td>\n",
       "      <td>-0.000600</td>\n",
       "      <td>1.000000</td>\n",
       "    </tr>\n",
       "    <tr>\n",
       "      <th>4</th>\n",
       "      <td>3876757</td>\n",
       "      <td>0.0</td>\n",
       "      <td>0</td>\n",
       "      <td>-0.000600</td>\n",
       "      <td>1.000000</td>\n",
       "    </tr>\n",
       "    <tr>\n",
       "      <th>...</th>\n",
       "      <td>...</td>\n",
       "      <td>...</td>\n",
       "      <td>...</td>\n",
       "      <td>...</td>\n",
       "      <td>...</td>\n",
       "    </tr>\n",
       "    <tr>\n",
       "      <th>123386</th>\n",
       "      <td>4000139</td>\n",
       "      <td>1.0</td>\n",
       "      <td>1</td>\n",
       "      <td>0.000516</td>\n",
       "      <td>1.000516</td>\n",
       "    </tr>\n",
       "    <tr>\n",
       "      <th>123387</th>\n",
       "      <td>4000140</td>\n",
       "      <td>1.0</td>\n",
       "      <td>1</td>\n",
       "      <td>0.001011</td>\n",
       "      <td>1.001011</td>\n",
       "    </tr>\n",
       "    <tr>\n",
       "      <th>123388</th>\n",
       "      <td>4000141</td>\n",
       "      <td>1.0</td>\n",
       "      <td>1</td>\n",
       "      <td>0.000975</td>\n",
       "      <td>1.000975</td>\n",
       "    </tr>\n",
       "    <tr>\n",
       "      <th>123389</th>\n",
       "      <td>4000142</td>\n",
       "      <td>1.0</td>\n",
       "      <td>1</td>\n",
       "      <td>0.001076</td>\n",
       "      <td>1.001076</td>\n",
       "    </tr>\n",
       "    <tr>\n",
       "      <th>123390</th>\n",
       "      <td>4000143</td>\n",
       "      <td>1.0</td>\n",
       "      <td>1</td>\n",
       "      <td>0.000939</td>\n",
       "      <td>1.000939</td>\n",
       "    </tr>\n",
       "  </tbody>\n",
       "</table>\n",
       "<p>123391 rows × 5 columns</p>\n",
       "</div>"
      ],
      "text/plain": [
       "            idx  label  pedict_label       pct  adjusted_true_returns\n",
       "0       3876753    0.0             0 -0.000366               1.000000\n",
       "1       3876754    0.0             0 -0.000331               1.000000\n",
       "2       3876755    0.0             0 -0.000326               1.000000\n",
       "3       3876756    0.0             0 -0.000600               1.000000\n",
       "4       3876757    0.0             0 -0.000600               1.000000\n",
       "...         ...    ...           ...       ...                    ...\n",
       "123386  4000139    1.0             1  0.000516               1.000516\n",
       "123387  4000140    1.0             1  0.001011               1.001011\n",
       "123388  4000141    1.0             1  0.000975               1.000975\n",
       "123389  4000142    1.0             1  0.001076               1.001076\n",
       "123390  4000143    1.0             1  0.000939               1.000939\n",
       "\n",
       "[123391 rows x 5 columns]"
      ]
     },
     "execution_count": 35,
     "metadata": {},
     "output_type": "execute_result"
    }
   ],
   "source": [
    "# 获取标签\n",
    "returns_df = final_feature_df_test[['idx', 'label']].copy()\n",
    "returns_df['pedict_label'] = y_pred_class\n",
    "\n",
    "# 获取收益率\n",
    "df_test_returns = df_test[['Open_time', 'Close']].copy()\n",
    "df_test_returns['pct'] = df_test_returns[\"Close\"].shift(-15) / df_test_returns[\"Close\"] - 1\n",
    "# df_test_returns['pct'] = np.log(df_test_returns[\"Close\"].shift(-15) / df_test_returns[\"Close\"])\n",
    "\n",
    "close_values = df_test_returns.loc[returns_df['idx']]['pct'].values\n",
    "returns_df['pct'] = close_values\n",
    "# 总收益率\n",
    "returns_df['adjusted_true_returns'] = returns_df.apply(\n",
    "    lambda row: (1 + row['pct']) if row['pedict_label'] > 0 else 1, axis=1\n",
    ")\n",
    "\n",
    "# 查看修改后的 DataFrame\n",
    "returns_df"
   ]
  },
  {
   "cell_type": "code",
   "execution_count": 36,
   "metadata": {
    "execution": {
     "iopub.execute_input": "2025-04-24T12:57:22.716662Z",
     "iopub.status.busy": "2025-04-24T12:57:22.716359Z",
     "iopub.status.idle": "2025-04-24T12:57:22.723259Z",
     "shell.execute_reply": "2025-04-24T12:57:22.722234Z",
     "shell.execute_reply.started": "2025-04-24T12:57:22.716640Z"
    },
    "trusted": true
   },
   "outputs": [
    {
     "data": {
      "text/plain": [
       "0.24341505619548873"
      ]
     },
     "execution_count": 36,
     "metadata": {},
     "output_type": "execute_result"
    }
   ],
   "source": [
    "returns_df['adjusted_true_returns'].prod()"
   ]
  },
  {
   "cell_type": "code",
   "execution_count": 37,
   "metadata": {
    "execution": {
     "iopub.execute_input": "2025-04-24T13:00:28.062191Z",
     "iopub.status.busy": "2025-04-24T13:00:28.061833Z",
     "iopub.status.idle": "2025-04-24T13:00:28.077523Z",
     "shell.execute_reply": "2025-04-24T13:00:28.076220Z",
     "shell.execute_reply.started": "2025-04-24T13:00:28.062163Z"
    },
    "trusted": true
   },
   "outputs": [
    {
     "data": {
      "text/plain": [
       "<lightgbm.basic.Booster at 0x7fe087deca90>"
      ]
     },
     "execution_count": 37,
     "metadata": {},
     "output_type": "execute_result"
    }
   ],
   "source": [
    "bst.save_model('model_binary_classification.txt')"
   ]
  }
 ],
 "metadata": {
  "kaggle": {
   "accelerator": "none",
   "dataSources": [
    {
     "datasetId": 7178783,
     "sourceId": 11457168,
     "sourceType": "datasetVersion"
    },
    {
     "datasetId": 7202310,
     "sourceId": 11490003,
     "sourceType": "datasetVersion"
    }
   ],
   "dockerImageVersionId": 31012,
   "isGpuEnabled": false,
   "isInternetEnabled": true,
   "language": "python",
   "sourceType": "notebook"
  },
  "kernelspec": {
   "display_name": "Python 3",
   "language": "python",
   "name": "python3"
  },
  "language_info": {
   "codemirror_mode": {
    "name": "ipython",
    "version": 3
   },
   "file_extension": ".py",
   "mimetype": "text/x-python",
   "name": "python",
   "nbconvert_exporter": "python",
   "pygments_lexer": "ipython3",
   "version": "3.11.11"
  }
 },
 "nbformat": 4,
 "nbformat_minor": 4
}
