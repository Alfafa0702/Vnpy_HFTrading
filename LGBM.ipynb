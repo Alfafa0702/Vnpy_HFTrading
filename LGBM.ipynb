{
 "cells": [
  {
   "cell_type": "markdown",
   "id": "47f66522",
   "metadata": {},
   "source": [
    "## 1.1 比特币快照数据调用"
   ]
  },
  {
   "cell_type": "code",
   "execution_count": 1,
   "id": "42326705",
   "metadata": {},
   "outputs": [],
   "source": [
    "import warnings\n",
    "warnings.filterwarnings(\"ignore\")"
   ]
  },
  {
   "cell_type": "code",
   "execution_count": 2,
   "id": "da9c536b",
   "metadata": {},
   "outputs": [
    {
     "name": "stdout",
     "output_type": "stream",
     "text": [
      "训练集长度： 3159935\n",
      "\n",
      "测试集长度： 644160\n"
     ]
    }
   ],
   "source": [
    "import sqlite3\n",
    "import pandas as pd\n",
    "import datetime\n",
    "\n",
    "db_path = \"bitcoin_data.db\"\n",
    "conn = sqlite3.connect(db_path)\n",
    "cursor = conn.cursor()\n",
    "\n",
    "# 训练集时段\n",
    "train_start = int(datetime.datetime(2018, 1, 1, 0, 0, 0).timestamp()) * 1000\n",
    "train_end   = int(datetime.datetime(2024, 1, 9, 23, 59, 59).timestamp()) * 1000\n",
    "\n",
    "# 测试集时段\n",
    "test_start  = int(datetime.datetime(2024, 1, 10, 0, 0, 0).timestamp()) * 1000\n",
    "test_end    = int(datetime.datetime(2025, 4, 15, 23, 59, 59).timestamp()) * 1000\n",
    "\n",
    "# 训练集\n",
    "train_query = f\"\"\"\n",
    "SELECT * FROM bitcoin_data_1m\n",
    "WHERE CAST(Open_time AS INTEGER) >= {train_start} AND CAST(Open_time AS INTEGER) <= {train_end}\n",
    "\"\"\"\n",
    "df_train = pd.read_sql(train_query, conn)\n",
    "\n",
    "# 测试集\n",
    "test_query = f\"\"\"\n",
    "SELECT * FROM bitcoin_data_1m\n",
    "WHERE CAST(Open_time AS INTEGER) >= {test_start} AND CAST(Open_time AS INTEGER) <= {test_end}\n",
    "\"\"\"\n",
    "df_test = pd.read_sql(test_query, conn)\n",
    "\n",
    "conn.close()\n",
    "\n",
    "\n",
    "print(\"训练集长度：\", len(df_train))\n",
    "print(\"\\n测试集长度：\", len(df_test))\n"
   ]
  },
  {
   "cell_type": "markdown",
   "id": "8fc9daca",
   "metadata": {},
   "source": [
    "## 1.2 数据预处理"
   ]
  },
  {
   "cell_type": "code",
   "execution_count": 3,
   "id": "f5a1c9a9",
   "metadata": {},
   "outputs": [],
   "source": [
    "def preprocess_df(df, fill_method='ffill'):\n",
    "    # 1. 转换时间戳为datetime格式\n",
    "    df['Open_time'] = pd.to_datetime(df['Open_time'], unit='ms')\n",
    "    df = df.set_index('Open_time')\n",
    "\n",
    "    # 2. 补齐时间索引\n",
    "    full_index = pd.date_range(start=df.index.min(), end=df.index.max(), freq='1T')\n",
    "    df = df.reindex(full_index)\n",
    "\n",
    "    # 3. 填充缺失值\n",
    "    if fill_method == 'ffill':\n",
    "        df = df.fillna(method='ffill')\n",
    "    elif fill_method == 'bfill':\n",
    "        df = df.fillna(method='bfill')\n",
    "    else:\n",
    "        df = df.fillna(0) \n",
    "\n",
    "    return df\n",
    "\n",
    "\n",
    "df_train = preprocess_df(df_train)\n",
    "df_test = preprocess_df(df_test)\n",
    "#print(df_test.isnull().sum())\n",
    "#print(df_train.isnull().sum())"
   ]
  },
  {
   "cell_type": "markdown",
   "id": "29f1d81e",
   "metadata": {},
   "source": [
    "## 2 特征工程"
   ]
  },
  {
   "cell_type": "markdown",
   "id": "6d09700f",
   "metadata": {},
   "source": [
    "#### 1. 均线类特征（SMA差分）\n",
    "\n",
    "- **定义**：计算不同周期（短/长）的简单移动平均线（SMA），并取它们的差分归一化。\n",
    "- **公式**：\n",
    "$$\n",
    "\\text{SMA}_{\\text{short}} = \\frac{1}{N_{\\text{short}}} \\sum_{i=0}^{N_{\\text{short}}-1} \\text{Close}_{t-i}\n",
    "$$\n",
    "$$\n",
    "\\text{SMA}_{\\text{long}} = \\frac{1}{N_{\\text{long}}} \\sum_{i=0}^{N_{\\text{long}}-1} \\text{Close}_{t-i}\n",
    "$$\n",
    "$$\n",
    "\\text{SMA差分特征} = \\frac{\\text{SMA}_{\\text{long}} - \\text{SMA}_{\\text{short}}}{\\text{SMA}_{\\text{long}}}\n",
    "$$\n",
    "\n",
    "---\n",
    "\n",
    "#### 2. 布林带特征（Bollinger Bands）\n",
    "\n",
    "- **定义**：计算不同窗口下的布林带上下轨，特征为当前价格与上轨的距离占整个带宽的比例。\n",
    "- **公式**：\n",
    "$$\n",
    "\\text{MA}_N = \\frac{1}{N} \\sum_{i=0}^{N-1} \\text{Close}_{t-i}\n",
    "$$\n",
    "$$\n",
    "\\sigma_N = \\sqrt{\\frac{1}{N} \\sum_{i=0}^{N-1} (\\text{Close}_{t-i} - \\text{MA}_N)^2}\n",
    "$$\n",
    "$$\n",
    "\\text{Upper} = \\text{MA}_N + k \\cdot \\sigma_N\n",
    "$$\n",
    "$$\n",
    "\\text{Lower} = \\text{MA}_N - k \\cdot \\sigma_N\n",
    "$$\n",
    "$$\n",
    "\\text{布林带特征} = \\frac{\\text{Upper} - \\text{Close}_t}{\\text{Upper} - \\text{Lower}}\n",
    "$$\n",
    "其中 $k$ 一般取 2。\n",
    "\n",
    "---\n",
    "\n",
    "#### 3. RSI（相对强弱指标）\n",
    "\n",
    "- **定义**：以较长周期 $N$（如 56 = 14 × 4）计算 RSI，反映超买超卖状态。\n",
    "- **公式**：\n",
    "$$\n",
    "\\text{RSI} = 100 \\times \\frac{\\text{平均上涨幅度}}{\\text{平均上涨幅度} + \\text{平均下跌幅度}}\n",
    "$$\n",
    "其中平均上涨幅度、平均下跌幅度分别为周期内正涨幅、负涨幅的均值。\n",
    "\n",
    "---\n",
    "\n",
    "#### 4. NATR（归一化真实波幅）\n",
    "\n",
    "- **定义**：以长周期 $N$ 计算 NATR，衡量波动率，归一化到当前价格。\n",
    "- **公式**：\n",
    "$$\n",
    "\\text{TR}_i = \\max \\left\\{ \\text{High}_i - \\text{Low}_i, |\\text{High}_i - \\text{Close}_{i-1}|, |\\text{Low}_i - \\text{Close}_{i-1}| \\right\\}\n",
    "$$\n",
    "$$\n",
    "\\text{ATR}_N = \\frac{1}{N} \\sum_{i=0}^{N-1} \\text{TR}_{t-i}\n",
    "$$\n",
    "$$\n",
    "\\text{NATR} = \\frac{\\text{ATR}_N}{\\text{Close}_t}\n",
    "$$\n",
    "\n",
    "---\n",
    "\n",
    "#### 5. DI+/DI-（动向指标）\n",
    "\n",
    "- **定义**：以不同周期 $N$ 计算正向/负向动向指标，反映上涨/下跌动能。\n",
    "- **公式**：\n",
    "$$\n",
    "\\text{DM}^+_i = \\max(\\text{High}_i - \\text{High}_{i-1}, 0)\n",
    "$$\n",
    "$$\n",
    "\\text{DM}^-_i = \\max(\\text{Low}_{i-1} - \\text{Low}_i, 0)\n",
    "$$\n",
    "$$\n",
    "\\text{DI}^+_N = 100 \\times \\frac{\\sum_{i=0}^{N-1} \\text{DM}^+_{t-i}}{\\sum_{i=0}^{N-1} \\text{TR}_{t-i}}\n",
    "$$\n",
    "$$\n",
    "\\text{DI}^-_N = 100 \\times \\frac{\\sum_{i=0}^{N-1} \\text{DM}^-_{t-i}}{\\sum_{i=0}^{N-1} \\text{TR}_{t-i}}\n",
    "$$\n",
    "\n",
    "---\n",
    "\n",
    "#### 6. 对数收益率（Log Return）\n",
    "\n",
    "- **定义**：现价与前一窗口价的对数差，含滞后（lag=0,1,2）。\n",
    "- **公式**：\n",
    "$$\n",
    "r_t^{(\\text{lag}=k)} = \\ln\\left(\\frac{\\text{Close}_t}{\\text{Close}_{t-15(k+1)}}\\right)\n",
    "$$\n",
    "\n",
    "---\n",
    "\n",
    "#### 7. 上下影线占比\n",
    "\n",
    "- **定义**：近15分钟最高价与收/开价的比例（上影线），最低价与收/开价的比例（下影线），反映K线形态。\n",
    "- **公式**：\n",
    "  - 上影线占比：\n",
    "    $$\n",
    "    \\text{上影线占比} = \\frac{\\max(\\text{High}_{t-14}, ..., \\text{High}_t) \\times 100}{\\max(\\text{Close}_t, \\text{Open}_{t-15})}\n",
    "    $$\n",
    "  - 下影线占比：\n",
    "    $$\n",
    "    \\text{下影线占比} = \\frac{\\min(\\text{Close}_t, \\text{Open}_{t-15}) \\times 100}{\\min(\\text{Low}_{t-14}, ..., \\text{Low}_t)}\n",
    "    $$\n",
    "\n",
    "---\n",
    "\n",
    "#### 8. 主动买入特征\n",
    "$$\n",
    "\\text{主动买入BTC占比} = \\frac{\\sum_{i=0}^{N-1} \\text{TakerBuyBaseAssetVolume}_{t-i}}{\\sum_{i=0}^{N-1} \\text{Volume}_{t-i}}\n",
    "$$\n",
    "\n",
    "$$\n",
    "\\text{主动买入计价币占比} = \\frac{\\sum_{i=0}^{N-1} \\text{TakerBuyQuoteAssetVolume}_{t-i}}{\\sum_{i=0}^{N-1} \\text{QuoteAssetVolume}_{t-i}}\n",
    "$$\n",
    "\n",
    "$$\n",
    "\\text{主动买入强度差分} = \\frac{1}{N_{\\text{short}}} \\sum_{i=0}^{N_{\\text{short}}-1} \\text{TakerBuyBaseAssetVolume}_{t-i}\n",
    "- \\frac{1}{N_{\\text{long}}} \\sum_{i=0}^{N_{\\text{long}}-1} \\text{TakerBuyBaseAssetVolume}_{t-i}\n",
    "$$"
   ]
  },
  {
   "cell_type": "code",
   "execution_count": 4,
   "id": "691b306a",
   "metadata": {},
   "outputs": [],
   "source": [
    "import pandas as pd\n",
    "import numpy as np\n",
    "\n",
    "def calc_sma_diff(close, timeperiod_short, timeperiod_long):\n",
    "    res_short = close[-timeperiod_short:].mean()\n",
    "    res_long = close[-timeperiod_long:].mean()\n",
    "    res = (res_long - res_short) / res_long\n",
    "    return res\n",
    "\n",
    "def calc_bbands(close, timeperiod, std=2):\n",
    "    close_std = close[-timeperiod:].std(ddof=0)\n",
    "    rol = close[-timeperiod:].mean()\n",
    "    upper = rol + close_std * std\n",
    "    lower = rol - close_std * std\n",
    "    res = (upper - close[-1]) / (upper - lower)\n",
    "    return res\n",
    "\n",
    "def calc_rsi(close, timeperiod):\n",
    "    diff = np.diff(close[-(timeperiod+1):])\n",
    "    A = diff[diff>0].sum() / timeperiod\n",
    "    B = -diff[diff<0].sum() / timeperiod\n",
    "    rsi = 100 * A / (A + B)\n",
    "    return rsi\n",
    "\n",
    "def calc_atr(high, low, close, timeperiod):\n",
    "    A = np.abs(high[-timeperiod:] - close[-(timeperiod+1):-1])\n",
    "    B = np.abs(low[-timeperiod:] -  close[-(timeperiod+1):-1])\n",
    "    C = high[-timeperiod:] - low[-timeperiod:]\n",
    "    res = np.vstack((A, B, C)).max(axis=0).mean()\n",
    "    return res\n",
    "\n",
    "def calc_natr(high, low, close, timeperiod):\n",
    "    res = calc_atr(high, low, close, timeperiod) / close[-1]\n",
    "    return res\n",
    "\n",
    "def calc_minus_di(high, low, close, timeperiod):\n",
    "    high_diff = np.diff(high[-(timeperiod+1):])\n",
    "    low_diff = np.diff(low[-(timeperiod+1):])\n",
    "    high_diff[(high_diff<0)] = 0\n",
    "    low_diff[(low_diff<0)] = 0\n",
    "    low_diff[(high_diff>low_diff)] = 0\n",
    "    tr = calc_atr(high, low, close, timeperiod)*timeperiod\n",
    "    res = 100 * low_diff.sum() / tr\n",
    "    return res\n",
    "\n",
    "def calc_plus_di(high, low, close, timeperiod):\n",
    "    high_diff = np.diff(high[-(timeperiod+1):])\n",
    "    low_diff = np.diff(low[-(timeperiod+1):])\n",
    "    high_diff[(high_diff<0)] = 0\n",
    "    low_diff[(low_diff<0)] = 0\n",
    "    high_diff[(high_diff<low_diff)] = 0\n",
    "    tr = calc_atr(high, low, close, timeperiod)*timeperiod\n",
    "    res = 100 * high_diff.sum() / tr\n",
    "    return res\n",
    "\n",
    "def calc_log_ret(close, lag=0):\n",
    "    return np.log(close[-(1+15*lag)] / close[-(1+15*(lag+1))])\n",
    "\n",
    "def upper_shadow_15_perc(high, close, open_, lag=0):\n",
    "    if lag:\n",
    "        return high[-15*(lag+1):-15*lag].max() * 100 / np.maximum(close[-15*lag-1], open_[-15*(lag+1)-1])\n",
    "    else:\n",
    "        return high[-15:].max() * 100 / np.maximum(close[-1], open_[-16])\n",
    "\n",
    "def lower_shadow_15_perc(low, close, open_, lag=0):\n",
    "    if lag:\n",
    "        return np.minimum(close[-15*lag-1], open_[-15*(lag+1)-1]) * 100 / low[-15*(lag+1):-15*lag].min()\n",
    "    else:\n",
    "        return np.minimum(close[-1], open_[-16]) * 100 / low[-15:].min()\n",
    "\n",
    "# 主动买入相关\n",
    "def taker_buy_ratio_base(volume, taker_buy_base_asset_volume, window=15):\n",
    "    vol = volume[-window:].sum()\n",
    "    buy = taker_buy_base_asset_volume[-window:].sum()\n",
    "    return buy / vol if vol > 0 else 0\n",
    "\n",
    "def taker_buy_ratio_quote(quote_asset_volume, taker_buy_quote_asset_volume, window=15):\n",
    "    vol = quote_asset_volume[-window:].sum()\n",
    "    buy = taker_buy_quote_asset_volume[-window:].sum()\n",
    "    return buy / vol if vol > 0 else 0\n",
    "\n",
    "def taker_buy_strength_diff(taker_buy_base_asset_volume, short=15, long=60):\n",
    "    short_mean = taker_buy_base_asset_volume[-short:].mean()\n",
    "    long_mean = taker_buy_base_asset_volume[-long:].mean()\n",
    "    return short_mean - long_mean"
   ]
  },
  {
   "cell_type": "code",
   "execution_count": null,
   "id": "16940cac",
   "metadata": {},
   "outputs": [],
   "source": [
    "def get_features( open_, high, low, close, volume, \n",
    "                 quote_asset_volume, taker_buy_base_asset_volume, taker_buy_quote_asset_volume):\n",
    "    \n",
    "    res = []\n",
    "    res.append(calc_sma_diff(close, 12, 26))\n",
    "    res.append(calc_sma_diff(close, 12*4*4, 24*4*4))\n",
    "    res.append(calc_sma_diff(close, 12*4*4*4, 24*4*4*4))\n",
    "    res.append(calc_sma_diff(close, 12*4*4*4*4, 24*4*4*4*4))\n",
    "    res.append(calc_sma_diff(volume, 12*4*4, 24*4*4))\n",
    "    res.append(calc_rsi(close, 14*4))\n",
    "    res.append(calc_natr(high, low, close, 14*4*4*4))\n",
    "    res.append(calc_minus_di(high, low, close, 14))\n",
    "    res.append(calc_minus_di(high, low, close, 14*4*4*4))\n",
    "    res.append(calc_plus_di(high, low, close, 14*4))\n",
    "    res.append(calc_plus_di(high, low, close, 14*4*4*4))\n",
    "    res.append(calc_log_ret(close))\n",
    "    res.append(calc_log_ret(close, lag=1))\n",
    "    res.append(calc_log_ret(close, lag=2))\n",
    "    res.append(upper_shadow_15_perc(high, close, open_))\n",
    "    res.append(lower_shadow_15_perc(low, close, open_))\n",
    "    res.append(calc_bbands(close, 5*4*2))\n",
    "    res.append(calc_bbands(close, 5*4*4))\n",
    "    res.append(calc_bbands(close, 5*4*4*2))\n",
    "    res.append(calc_bbands(close, 5*4*4*4))\n",
    "    # 主动买入特征\n",
    "    res.append(taker_buy_ratio_base(volume, taker_buy_base_asset_volume, window=15))\n",
    "    res.append(taker_buy_ratio_quote(quote_asset_volume, taker_buy_quote_asset_volume, window=15))\n",
    "    res.append(taker_buy_strength_diff(taker_buy_base_asset_volume, short=15, long=60))\n",
    "    \n",
    "    return res\n",
    "\n",
    "# close: 当前行向前一共 row_num = 24*4*4*4*4 + 50 行，最后一行就是当前行"
   ]
  },
  {
   "cell_type": "code",
   "execution_count": 6,
   "id": "aa0f4198",
   "metadata": {},
   "outputs": [],
   "source": [
    "def extract_features(df):\n",
    "    \n",
    "    return get_features(\n",
    "        df[\"Open\"].values,\n",
    "        df[\"High\"].values,\n",
    "        df[\"Low\"].values,\n",
    "        df[\"Close\"].values,\n",
    "        df[\"Volume\"].values,\n",
    "        df[\"Quote_asset_volume\"].values,\n",
    "        df[\"Taker_buy_base_asset_volume\"].values,\n",
    "        df[\"Taker_buy_quote_asset_volume\"].values\n",
    "    )\n",
    "def get_dataset_features(df):\n",
    "    row_num = 24*4*4*4*4 + 50\n",
    "    feature_names = [f'feature{i+1}' for i in range(23)]\n",
    "    idx = 0\n",
    "\n",
    "    # 用于收集所有样本\n",
    "    records = []\n",
    "    import tqdm\n",
    "    for date, _ in tqdm.tqdm(df.iterrows()):\n",
    "        if idx < row_num:\n",
    "            idx += 1\n",
    "            continue\n",
    "        current_index = idx\n",
    "        start_index = max(0, current_index - row_num)\n",
    "        new_df = df.iloc[start_index:current_index + 1].copy()\n",
    "\n",
    "        idx += 1\n",
    "        features = extract_features(new_df)\n",
    "        records.append([date] + list(features))\n",
    "\n",
    "    final_feature_df = pd.DataFrame(records, columns=['idx'] + feature_names)\n",
    "    return final_feature_df\n",
    "\n",
    "# # 计算特征，但是已经计算过并且保存了，因此只需要加载即可\n",
    "# final_feature_df_train = get_dataset_features(df_train)\n",
    "# final_feature_df_test = get_dataset_features(df_test)\n",
    "\n"
   ]
  },
  {
   "cell_type": "code",
   "execution_count": 7,
   "id": "ccff2646",
   "metadata": {},
   "outputs": [],
   "source": [
    "# final_feature_df_train.to_csv('final_feature_df_train.csv', index=False, encoding='utf-8')\n",
    "# final_feature_df_test.to_csv('final_feature_df_test.csv', index=False, encoding='utf-8')\n",
    "final_feature_df_train = pd.read_csv('final_feature_df_train.csv')\n",
    "final_feature_df_test = pd.read_csv('final_feature_df_test.csv')\n"
   ]
  },
  {
   "cell_type": "code",
   "execution_count": 8,
   "id": "765a9820",
   "metadata": {},
   "outputs": [
    {
     "name": "stdout",
     "output_type": "stream",
     "text": [
      "3161806\n",
      "637966\n",
      "3161806\n",
      "637966\n"
     ]
    }
   ],
   "source": [
    "# print(final_feature_df_train.head())\n",
    "row_num = 24*4*4*4*4 + 50\n",
    "print(len(final_feature_df_train))\n",
    "print(len(final_feature_df_test))\n",
    "print(len(df_train[row_num:]))\n",
    "print(len(df_test[row_num:]))\n"
   ]
  },
  {
   "cell_type": "code",
   "execution_count": 9,
   "id": "06817511",
   "metadata": {},
   "outputs": [],
   "source": [
    "def add_target(df, N=15):\n",
    "    import numpy as np\n",
    "    \n",
    "    # 计算R^a(t) - 从t+1到t+16的对数收益率\n",
    "    \n",
    "    df['R_a'] = np.log(df['Close'].shift(-15) / df['Close']) \n",
    "    window_size = 3750  \n",
    "    df['M_t'] = df['R_a'].rolling(window=window_size, min_periods=1).mean()\n",
    "\n",
    "    # 2. 计算β (使用一个固定时间段的数据)\n",
    "    beta_window = min(len(df), 3750*2)  \n",
    "    \n",
    "   \n",
    "    if len(df) > beta_window:\n",
    "        R_a_sample = df['R_a'].iloc[-beta_window:].dropna()\n",
    "        M_t_sample = df['M_t'].iloc[-beta_window:].dropna()\n",
    "        \n",
    "        # 计算<M·R^a>和<M^2>\n",
    "        M_R_product = (M_t_sample * R_a_sample).mean()\n",
    "        M_squared = (M_t_sample**2).mean()\n",
    "        \n",
    "        # 计算β\n",
    "        beta = M_R_product / M_squared if M_squared != 0 else 1.0\n",
    "    else:   \n",
    "        beta = 0.9  \n",
    "\n",
    "    # 3. 计算Target(t) = R^a(t) - β^a·M(t)\n",
    "    df['target'] = df['R_a'] - beta * df['M_t']\n",
    "    \n",
    "    df = df.drop(columns=['R_a', 'M_t'])\n",
    "    df = df.dropna(subset=['target'])\n",
    "    \n",
    "    return df"
   ]
  },
  {
   "cell_type": "code",
   "execution_count": 10,
   "id": "46689416",
   "metadata": {},
   "outputs": [],
   "source": [
    "N = 15  \n",
    "df_train_target=add_target(df_train,N)\n",
    "df_test_target=add_target(df_test,N)\n"
   ]
  },
  {
   "cell_type": "code",
   "execution_count": 11,
   "id": "e4a88505",
   "metadata": {},
   "outputs": [
    {
     "name": "stdout",
     "output_type": "stream",
     "text": [
      "3167985\n",
      "644145\n",
      "                         Open      High       Low     Close      Volume  \\\n",
      "2017-12-31 16:00:00  13226.16  13277.85  13192.02  13246.35    6.249564   \n",
      "2017-12-31 16:01:00  13277.83  13301.49  13246.50  13300.18   11.117665   \n",
      "2017-12-31 16:02:00  13280.06  13350.00  13267.71  13332.32   18.448583   \n",
      "2017-12-31 16:03:00  13313.02  13380.14  13313.02  13380.14   11.776241   \n",
      "2017-12-31 16:04:00  13369.99  13462.00  13359.45  13417.73   21.192539   \n",
      "...                       ...       ...       ...       ...         ...   \n",
      "2024-01-09 15:40:00  46914.77  46961.00  46912.43  46941.72   59.375430   \n",
      "2024-01-09 15:41:00  46941.71  46970.56  46941.71  46967.99   61.354190   \n",
      "2024-01-09 15:42:00  46967.98  47010.00  46939.12  46990.42  184.693620   \n",
      "2024-01-09 15:43:00  46990.41  47004.00  46679.00  46901.10  235.744670   \n",
      "2024-01-09 15:44:00  46901.10  46984.00  46901.09  46955.77  120.572950   \n",
      "\n",
      "                        Close_time  Quote_asset_volume  Number_of_trades  \\\n",
      "2017-12-31 16:00:00  1514736059999        8.271086e+04             114.0   \n",
      "2017-12-31 16:01:00  1514736119999        1.477572e+05             109.0   \n",
      "2017-12-31 16:02:00  1514736179999        2.454524e+05             144.0   \n",
      "2017-12-31 16:03:00  1514736239999        1.572766e+05             141.0   \n",
      "2017-12-31 16:04:00  1514736299999        2.841745e+05             299.0   \n",
      "...                            ...                 ...               ...   \n",
      "2024-01-09 15:40:00  1704814859999        2.787018e+06            2454.0   \n",
      "2024-01-09 15:41:00  1704814919999        2.881198e+06            2109.0   \n",
      "2024-01-09 15:42:00  1704814979999        8.677675e+06            5086.0   \n",
      "2024-01-09 15:43:00  1704815039999        1.105415e+07            8332.0   \n",
      "2024-01-09 15:44:00  1704815099999        5.659797e+06            6912.0   \n",
      "\n",
      "                     Taker_buy_base_asset_volume  \\\n",
      "2017-12-31 16:00:00                     3.709777   \n",
      "2017-12-31 16:01:00                     9.156475   \n",
      "2017-12-31 16:02:00                    14.257445   \n",
      "2017-12-31 16:03:00                     5.551654   \n",
      "2017-12-31 16:04:00                    10.489571   \n",
      "...                                          ...   \n",
      "2024-01-09 15:40:00                    36.695520   \n",
      "2024-01-09 15:41:00                    43.954540   \n",
      "2024-01-09 15:42:00                   126.589720   \n",
      "2024-01-09 15:43:00                   114.954890   \n",
      "2024-01-09 15:44:00                    73.731100   \n",
      "\n",
      "                     Taker_buy_quote_asset_volume  Ignore    target  \n",
      "2017-12-31 16:00:00                  4.911986e+04     0.0  0.007232  \n",
      "2017-12-31 16:01:00                  1.216997e+05     0.0  0.005372  \n",
      "2017-12-31 16:02:00                  1.897425e+05     0.0  0.006148  \n",
      "2017-12-31 16:03:00                  7.413479e+04     0.0  0.001061  \n",
      "2017-12-31 16:04:00                  1.407691e+05     0.0 -0.006962  \n",
      "...                                           ...     ...       ...  \n",
      "2024-01-09 15:40:00                  1.722183e+06     0.0 -0.001853  \n",
      "2024-01-09 15:41:00                  2.064138e+06     0.0 -0.002032  \n",
      "2024-01-09 15:42:00                  5.948528e+06     0.0 -0.001886  \n",
      "2024-01-09 15:43:00                  5.391899e+06     0.0 -0.000860  \n",
      "2024-01-09 15:44:00                  3.460624e+06     0.0 -0.002065  \n",
      "\n",
      "[3167985 rows x 12 columns]\n"
     ]
    }
   ],
   "source": [
    "print(len(df_train_target))\n",
    "print(len(df_test_target))\n",
    "print(df_train_target)"
   ]
  },
  {
   "cell_type": "code",
   "execution_count": 12,
   "id": "d815e427",
   "metadata": {},
   "outputs": [],
   "source": [
    "def add_trend_back(df_with_target, N=15):\n",
    "    \n",
    "    # 重新计算R^a(t)和M_t\n",
    "    df_with_target['R_a'] = np.log(df_with_target['Close'].shift(-N) / df_with_target['Close'])\n",
    "    window_size = 3750  \n",
    "    df_with_target['M_t'] = df_with_target['R_a'].rolling(window=window_size, min_periods=1).mean()\n",
    "    \n",
    "    # 重新计算β\n",
    "    beta_window = min(len(df_with_target), 3750*2)  \n",
    "    \n",
    "    if len(df_with_target) > beta_window:\n",
    "        R_a_sample = df_with_target['R_a'].iloc[-beta_window:].dropna()\n",
    "        M_t_sample = df_with_target['M_t'].iloc[-beta_window:].dropna()\n",
    "        \n",
    "        M_R_product = (M_t_sample * R_a_sample).mean()\n",
    "        M_squared = (M_t_sample**2).mean()\n",
    "        \n",
    "        beta = M_R_product / M_squared if M_squared != 0 else 1.0\n",
    "    else:   \n",
    "        beta = 0.9\n",
    "    \n",
    "    # 计算趋势部分\n",
    "    df_with_target['trend'] = beta * df_with_target['M_t']\n",
    "    \n",
    "    # 原始对数收益率 = 去趋势收益率 + 趋势\n",
    "    df_with_target['original_return'] = df_with_target['target'] + df_with_target['trend']\n",
    "    \n",
    "    return df_with_target"
   ]
  },
  {
   "cell_type": "code",
   "execution_count": 13,
   "id": "e38e060f",
   "metadata": {},
   "outputs": [],
   "source": [
    "#加回趋势\n",
    "df_train_target = add_trend_back(df_train_target, N=15)\n",
    "df_test_target = add_trend_back(df_test_target, N=15)\n"
   ]
  },
  {
   "cell_type": "code",
   "execution_count": 14,
   "id": "ad4b34bf",
   "metadata": {},
   "outputs": [
    {
     "name": "stdout",
     "output_type": "stream",
     "text": [
      "训练集趋势表格示例:\n",
      "                              timestamp     trend  original_return    target  \\\n",
      "2017-12-31 16:00:00 2017-12-31 16:00:00  0.030990         0.038222  0.007232   \n",
      "2017-12-31 16:01:00 2017-12-31 16:01:00  0.029703         0.035075  0.005372   \n",
      "2017-12-31 16:02:00 2017-12-31 16:02:00  0.029408         0.035556  0.006148   \n",
      "2017-12-31 16:03:00 2017-12-31 16:03:00  0.027908         0.028969  0.001061   \n",
      "2017-12-31 16:04:00 2017-12-31 16:04:00  0.025255         0.018293 -0.006962   \n",
      "\n",
      "                     close_price  \n",
      "2017-12-31 16:00:00     13246.35  \n",
      "2017-12-31 16:01:00     13300.18  \n",
      "2017-12-31 16:02:00     13332.32  \n",
      "2017-12-31 16:03:00     13380.14  \n",
      "2017-12-31 16:04:00     13417.73  \n",
      "\n",
      "测试集趋势表格示例:\n",
      "                              timestamp     trend  original_return    target  \\\n",
      "2024-01-09 16:00:00 2024-01-09 16:00:00  0.001037         0.001380  0.000343   \n",
      "2024-01-09 16:01:00 2024-01-09 16:01:00  0.001576         0.002806  0.001229   \n",
      "2024-01-09 16:02:00 2024-01-09 16:02:00  0.001495         0.001776  0.000281   \n",
      "2024-01-09 16:03:00 2024-01-09 16:03:00  0.001259         0.000742 -0.000517   \n",
      "2024-01-09 16:04:00 2024-01-09 16:04:00  0.001106         0.000666 -0.000439   \n",
      "\n",
      "                     close_price  \n",
      "2024-01-09 16:00:00     46876.01  \n",
      "2024-01-09 16:01:00     46840.01  \n",
      "2024-01-09 16:02:00     46827.87  \n",
      "2024-01-09 16:03:00     46838.96  \n",
      "2024-01-09 16:04:00     46848.39  \n"
     ]
    }
   ],
   "source": [
    "df_train_target.index = pd.to_datetime(df_train_target.index)\n",
    "df_test_target.index = pd.to_datetime(df_test_target.index)\n",
    "\n",
    "\n",
    "train_trend_table = pd.DataFrame({\n",
    "    'timestamp': df_train_target.index,\n",
    "    'trend': df_train_target['trend'],\n",
    "    'original_return': df_train_target['original_return'],\n",
    "    'target': df_train_target['target'],\n",
    "    'close_price': df_train_target['Close']\n",
    "})\n",
    "\n",
    "test_trend_table = pd.DataFrame({\n",
    "    'timestamp': df_test_target.index,\n",
    "    'trend': df_test_target['trend'],\n",
    "    'original_return': df_test_target['original_return'],\n",
    "    'target': df_test_target['target'],\n",
    "    'close_price': df_test_target['Close']\n",
    "})\n",
    "\n",
    "\n",
    "train_trend_table.to_csv('train_trend_per_minute.csv')\n",
    "test_trend_table.to_csv('test_trend_per_minute.csv')\n",
    "\n",
    "\n",
    "print(\"训练集趋势表格示例:\")\n",
    "print(train_trend_table.head())\n",
    "\n",
    "print(\"\\n测试集趋势表格示例:\")\n",
    "print(test_trend_table.head())"
   ]
  },
  {
   "cell_type": "code",
   "execution_count": 12,
   "id": "e5b1968f",
   "metadata": {},
   "outputs": [
    {
     "name": "stdout",
     "output_type": "stream",
     "text": [
      "637951\n"
     ]
    }
   ],
   "source": [
    "row_num = 24*4*4*4*4 + 50\n",
    "df_train_target = df_train_target.iloc[row_num:].copy()\n",
    "df_test_target = df_test_target.iloc[row_num:].copy()\n",
    "print(len(df_test_target))"
   ]
  },
  {
   "cell_type": "code",
   "execution_count": 13,
   "id": "16792e11",
   "metadata": {},
   "outputs": [
    {
     "name": "stdout",
     "output_type": "stream",
     "text": [
      "3161791\n",
      "3161791\n",
      "637951\n",
      "637951\n"
     ]
    }
   ],
   "source": [
    "feature_names = [f'feature{i+1}' for i in range(23)]\n",
    "# print(feature_names)\n",
    "X_train = final_feature_df_train[feature_names][:-N]\n",
    "y_train = df_train_target[\"target\"]\n",
    "X_test = final_feature_df_test[feature_names][:-N]\n",
    "y_test = df_test_target[\"target\"]\n",
    "\n",
    "print(len(X_train))\n",
    "print(len(y_train))\n",
    "print(len(X_test))\n",
    "print(len(y_test))"
   ]
  },
  {
   "cell_type": "markdown",
   "id": "567318dc",
   "metadata": {},
   "source": [
    "## 3 模型训练"
   ]
  },
  {
   "cell_type": "code",
   "execution_count": null,
   "id": "65674c9b",
   "metadata": {},
   "outputs": [],
   "source": [
    "# %pip install lightgbm\n",
    "from lightgbm import LGBMRegressor\n",
    "model = LGBMRegressor(\n",
    "    learning_rate= 0.01,\n",
    "    n_estimators= 100,\n",
    "    num_leaves= 31,\n",
    "    subsample= 0.8,\n",
    "    n_jobs=1\n",
    ")\n",
    "model = model.fit(X_train, y_train)\n"
   ]
  },
  {
   "cell_type": "code",
   "execution_count": null,
   "id": "b89f9db7",
   "metadata": {},
   "outputs": [
    {
     "name": "stdout",
     "output_type": "stream",
     "text": [
      "[LightGBM] [Info] Auto-choosing row-wise multi-threading, the overhead of testing was 0.189735 seconds.\n",
      "You can set `force_row_wise=true` to remove the overhead.\n",
      "And if memory is not enough, you can set `force_col_wise=true`.\n",
      "[LightGBM] [Info] Total Bins 5865\n",
      "[LightGBM] [Info] Number of data points in the train set: 3161791, number of used features: 23\n",
      "[LightGBM] [Info] Start training from score 0.000001\n"
     ]
    }
   ],
   "source": []
  },
  {
   "cell_type": "code",
   "execution_count": 19,
   "id": "9349d9fd",
   "metadata": {},
   "outputs": [
    {
     "data": {
      "text/plain": [
       "<lightgbm.basic.Booster at 0x21689a1cf28>"
      ]
     },
     "execution_count": 19,
     "metadata": {},
     "output_type": "execute_result"
    }
   ],
   "source": [
    "model.booster_.save_model('lgbm_model.txt')"
   ]
  },
  {
   "cell_type": "code",
   "execution_count": 20,
   "id": "153681af",
   "metadata": {},
   "outputs": [
    {
     "name": "stdout",
     "output_type": "stream",
     "text": [
      "皮尔逊相关系数: 0.0220\n"
     ]
    },
    {
     "data": {
      "image/png": "[encoded data removed]",
      "text/plain": [
       "<Figure size 864x432 with 1 Axes>"
      ]
     },
     "metadata": {
      "needs_background": "light"
     },
     "output_type": "display_data"
    }
   ],
   "source": [
    "#测试集表现\n",
    "y_pred = model.predict(X_test)\n",
    "y_test_values = y_test.values\n",
    "\n",
    "from scipy.stats import pearsonr\n",
    "\n",
    "corr, _ = pearsonr(y_test_values, y_pred)\n",
    "print(f\"皮尔逊相关系数: {corr:.4f}\")\n",
    "\n",
    "import matplotlib.pyplot as plt\n",
    "\n",
    "\n",
    "%matplotlib inline\n",
    "plt.figure(figsize=(12, 6))\n",
    "plt.plot(y_test_values, label='True Target', color='blue', linewidth=1)\n",
    "plt.plot(y_pred, label='Predicted Target', color='red', linewidth=1)\n",
    "plt.title('True vs Predicted Target')\n",
    "plt.xlabel('Sample Index')\n",
    "plt.ylabel('Target Value')\n",
    "plt.legend()\n",
    "plt.show()\n",
    "\n"
   ]
  },
  {
   "cell_type": "code",
   "execution_count": 21,
   "id": "dcec03c8",
   "metadata": {},
   "outputs": [
    {
     "name": "stdout",
     "output_type": "stream",
     "text": [
      "皮尔逊相关系数: 0.3621\n"
     ]
    },
    {
     "data": {
      "image/png": "[encoded data removed]",
      "text/plain": [
       "<Figure size 864x432 with 1 Axes>"
      ]
     },
     "metadata": {
      "needs_background": "light"
     },
     "output_type": "display_data"
    }
   ],
   "source": [
    "#训练集表现\n",
    "y_pred_train = model.predict(X_train)\n",
    "y_train_values = y_train.values\n",
    "\n",
    "from scipy.stats import pearsonr\n",
    "\n",
    "corr, _ = pearsonr(y_train_values, y_pred_train)\n",
    "print(f\"皮尔逊相关系数: {corr:.4f}\")\n",
    "\n",
    "import matplotlib.pyplot as plt\n",
    "\n",
    "\n",
    "%matplotlib inline\n",
    "plt.figure(figsize=(12, 6))\n",
    "plt.plot(y_train_values, label='True Target', color='blue', linewidth=1)\n",
    "plt.plot(y_pred_train, label='Predicted Target', color='red', linewidth=1)\n",
    "plt.title('True vs Predicted Target')\n",
    "plt.xlabel('Sample Index')\n",
    "plt.ylabel('Target Value')\n",
    "plt.legend()\n",
    "plt.show()"
   ]
  },
  {
   "cell_type": "code",
   "execution_count": 22,
   "id": "91130f54",
   "metadata": {},
   "outputs": [
    {
     "name": "stdout",
     "output_type": "stream",
     "text": [
      "***test set***\n",
      "MSE: 8.026797545925138e-06\n",
      "RMSE: 0.0028331603459608736\n",
      "MAE: 0.0018441451367608795\n",
      "R2: -0.002006775366450775\n",
      "\n",
      "***train set***\n",
      "MSE: 1.4581201618119621e-05\n",
      "RMSE: 0.0038185339618916083\n",
      "MAE: 0.002241546947147081\n",
      "R2: 0.10101456409660425\n"
     ]
    }
   ],
   "source": [
    "from sklearn.metrics import mean_squared_error, mean_absolute_error, r2_score\n",
    "import numpy as np\n",
    "\n",
    "mse = mean_squared_error(y_test, y_pred)\n",
    "rmse = np.sqrt(mse)\n",
    "mae = mean_absolute_error(y_test, y_pred)\n",
    "r2 = r2_score(y_test, y_pred)\n",
    "print(\"***test set***\")\n",
    "print(f'MSE: {mse}')\n",
    "print(f'RMSE: {rmse}')\n",
    "print(f'MAE: {mae}')\n",
    "print(f'R2: {r2}')\n",
    "\n",
    "print()\n",
    "print(\"***train set***\")\n",
    "mse = mean_squared_error(y_train, y_pred_train)\n",
    "rmse = np.sqrt(mse)\n",
    "mae = mean_absolute_error(y_train, y_pred_train)\n",
    "r2 = r2_score(y_train, y_pred_train)\n",
    "\n",
    "print(f'MSE: {mse}')\n",
    "print(f'RMSE: {rmse}')\n",
    "print(f'MAE: {mae}')\n",
    "print(f'R2: {r2}')\n"
   ]
  },
  {
   "cell_type": "markdown",
   "id": "8b1674a1",
   "metadata": {},
   "source": [
    "## 4 特征筛选"
   ]
  },
  {
   "cell_type": "code",
   "execution_count": 23,
   "id": "88be4440",
   "metadata": {},
   "outputs": [
    {
     "name": "stdout",
     "output_type": "stream",
     "text": [
      "特征重要性排名:\n",
      "      Feature  Importance\n",
      "1    feature2         276\n",
      "10  feature11         271\n",
      "4    feature5         249\n",
      "3    feature4         236\n",
      "2    feature3         235\n",
      "6    feature7         223\n",
      "8    feature9         221\n",
      "19  feature20         183\n",
      "22  feature23         148\n",
      "9   feature10         132\n",
      "0    feature1         101\n",
      "13  feature14          99\n",
      "12  feature13          85\n",
      "5    feature6          82\n",
      "20  feature21          79\n",
      "16  feature17          64\n",
      "7    feature8          62\n",
      "17  feature18          58\n",
      "18  feature19          52\n",
      "15  feature16          46\n",
      "11  feature12          36\n",
      "14  feature15          32\n",
      "21  feature22          30\n"
     ]
    },
    {
     "data": {
      "image/png": "[encoded data removed]",
      "text/plain": [
       "<Figure size 864x576 with 1 Axes>"
      ]
     },
     "metadata": {
      "needs_background": "light"
     },
     "output_type": "display_data"
    },
    {
     "name": "stdout",
     "output_type": "stream",
     "text": [
      "\n",
      "主动买入量相关特征的重要性:\n",
      "      Feature  Importance\n",
      "22  feature23         148\n",
      "20  feature21          79\n",
      "21  feature22          30\n",
      "\n",
      "选择的特征 (重要性 > 130.434783):\n",
      "['feature2', 'feature11', 'feature5', 'feature4', 'feature3', 'feature7', 'feature9', 'feature20', 'feature23', 'feature10']\n",
      "保留特征数量: 10/23\n"
     ]
    }
   ],
   "source": [
    "from scipy.stats import pearsonr\n",
    "from sklearn.metrics import mean_squared_error, mean_absolute_error, r2_score\n",
    "\n",
    "#特征重要性\n",
    "feature_importance = model.feature_importances_\n",
    "feature_names = [f'feature{i+1}' for i in range(23)]\n",
    "\n",
    "\n",
    "importance_df = pd.DataFrame({\n",
    "    'Feature': feature_names,\n",
    "    'Importance': feature_importance\n",
    "}).sort_values('Importance', ascending=False)\n",
    "\n",
    "\n",
    "print(\"特征重要性排名:\")\n",
    "print(importance_df)\n",
    "\n",
    "#可视化特征重要性\n",
    "plt.figure(figsize=(12, 8))\n",
    "plt.barh(importance_df['Feature'], importance_df['Importance'])\n",
    "plt.xlabel('Importance')\n",
    "plt.ylabel('Features')\n",
    "plt.title('Feature Importance')\n",
    "plt.gca().invert_yaxis()  \n",
    "plt.show()\n",
    "\n",
    "\n",
    "# 主动买入量相关特征\n",
    "buy_volume_features = ['feature21', 'feature22', 'feature23']  \n",
    "buy_volume_importance = importance_df[importance_df['Feature'].isin(buy_volume_features)]\n",
    "print(\"\\n主动买入量相关特征的重要性:\")\n",
    "print(buy_volume_importance)\n",
    "\n",
    "\n",
    "#特征选择 - 基于重要性阈值\n",
    "importance_threshold = np.mean(feature_importance) \n",
    "# importance_threshold = 150\n",
    "selected_features = importance_df[importance_df['Importance'] > importance_threshold]['Feature'].tolist()\n",
    "print(f\"\\n选择的特征 (重要性 > {importance_threshold:.6f}):\")\n",
    "print(selected_features)\n",
    "print(f\"保留特征数量: {len(selected_features)}/{len(feature_names)}\")"
   ]
  },
  {
   "cell_type": "code",
   "execution_count": 24,
   "id": "86c917c6",
   "metadata": {},
   "outputs": [],
   "source": [
    "#剔除掉主动买入相关特征，加入feature10\n",
    "if 'feature23' in selected_features:\n",
    "    selected_features.remove('feature23')\n",
    "\n",
    "if 'feature10' not in selected_features:\n",
    "    selected_features.append('feature10')"
   ]
  },
  {
   "cell_type": "code",
   "execution_count": 25,
   "id": "7d5b7854",
   "metadata": {},
   "outputs": [
    {
     "name": "stdout",
     "output_type": "stream",
     "text": [
      "[LightGBM] [Info] Auto-choosing row-wise multi-threading, the overhead of testing was 0.086674 seconds.\n",
      "You can set `force_row_wise=true` to remove the overhead.\n",
      "And if memory is not enough, you can set `force_col_wise=true`.\n",
      "[LightGBM] [Info] Total Bins 2295\n",
      "[LightGBM] [Info] Number of data points in the train set: 3161791, number of used features: 9\n",
      "[LightGBM] [Info] Start training from score 0.000001\n"
     ]
    },
    {
     "data": {
      "text/plain": [
       "<lightgbm.basic.Booster at 0x2168b0c1518>"
      ]
     },
     "execution_count": 25,
     "metadata": {},
     "output_type": "execute_result"
    }
   ],
   "source": [
    "#重新训练模型\n",
    "X_train_selected = X_train[selected_features]\n",
    "X_test_selected = X_test[selected_features]\n",
    "\n",
    "model_selected = LGBMRegressor(n_jobs=1)\n",
    "model_selected.fit(X_train_selected, y_train)\n",
    "\n",
    "model_selected.booster_.save_model('lgbm_model_selected.txt')"
   ]
  },
  {
   "cell_type": "code",
   "execution_count": 26,
   "id": "dd402771",
   "metadata": {},
   "outputs": [
    {
     "name": "stdout",
     "output_type": "stream",
     "text": [
      "筛选后特征模型 - 测试集皮尔逊相关系数: 0.0371\n"
     ]
    },
    {
     "data": {
      "image/png": "[encoded data removed]",
      "text/plain": [
       "<Figure size 864x432 with 1 Axes>"
      ]
     },
     "metadata": {
      "needs_background": "light"
     },
     "output_type": "display_data"
    }
   ],
   "source": [
    "#测试集表现 - 使用筛选后特征的模型\n",
    "y_pred_selected = model_selected.predict(X_test_selected)\n",
    "y_test_values = y_test.values\n",
    "corr, _ = pearsonr(y_test_values, y_pred_selected)\n",
    "print(f\"筛选后特征模型 - 测试集皮尔逊相关系数: {corr:.4f}\")\n",
    "\n",
    "\n",
    "%matplotlib inline\n",
    "plt.figure(figsize=(12, 6))\n",
    "plt.plot(y_test_values, label='True Target', color='blue', linewidth=1)\n",
    "plt.plot(y_pred_selected, label='Predicted Target', color='red', linewidth=1)\n",
    "plt.xlabel('Sample Index')\n",
    "plt.ylabel('Target Value')\n",
    "plt.legend()\n",
    "plt.show()\n"
   ]
  },
  {
   "cell_type": "code",
   "execution_count": 27,
   "id": "09b615ad",
   "metadata": {},
   "outputs": [
    {
     "name": "stdout",
     "output_type": "stream",
     "text": [
      "筛选后特征模型 - 训练集皮尔逊相关系数: 0.3616\n"
     ]
    },
    {
     "data": {
      "image/png": "[encoded data removed]",
      "text/plain": [
       "<Figure size 864x432 with 1 Axes>"
      ]
     },
     "metadata": {
      "needs_background": "light"
     },
     "output_type": "display_data"
    }
   ],
   "source": [
    "#训练集表现 - 使用筛选后特征的模型\n",
    "y_pred_train_selected = model_selected.predict(X_train_selected)\n",
    "y_train_values = y_train.values\n",
    "\n",
    "from scipy.stats import pearsonr\n",
    "corr, _ = pearsonr(y_train_values, y_pred_train_selected)\n",
    "print(f\"筛选后特征模型 - 训练集皮尔逊相关系数: {corr:.4f}\")\n",
    "\n",
    "import matplotlib.pyplot as plt\n",
    "%matplotlib inline\n",
    "plt.figure(figsize=(12, 6))\n",
    "plt.plot(y_train_values, label='True Target', color='blue', linewidth=1)\n",
    "plt.plot(y_pred_train_selected, label='Predicted Target', color='red', linewidth=1)\n",
    "plt.xlabel('Sample Index')\n",
    "plt.ylabel('Target Value')\n",
    "plt.legend()\n",
    "plt.show()"
   ]
  },
  {
   "cell_type": "code",
   "execution_count": 28,
   "id": "c043f135",
   "metadata": {},
   "outputs": [
    {
     "name": "stdout",
     "output_type": "stream",
     "text": [
      "*** 筛选后特征模型 - 测试集评估 ***\n",
      "MSE: 8.006798058934203e-06\n",
      "RMSE: 0.00282962860795091\n",
      "MAE: 0.0018438903183673988\n",
      "R2: 0.0004898145069220927\n",
      "\n",
      "*** 筛选后特征模型 - 训练集评估 ***\n",
      "MSE: 1.4590450019868935e-05\n",
      "RMSE: 0.0038197447584712952\n",
      "MAE: 0.002243079489828275\n",
      "R2: 0.10044436565234949\n"
     ]
    }
   ],
   "source": [
    "mse = mean_squared_error(y_test, y_pred_selected)\n",
    "rmse = np.sqrt(mse)\n",
    "mae = mean_absolute_error(y_test, y_pred_selected)\n",
    "r2 = r2_score(y_test, y_pred_selected)\n",
    "print(\"*** 筛选后特征模型 - 测试集评估 ***\")\n",
    "print(f'MSE: {mse}')\n",
    "print(f'RMSE: {rmse}')\n",
    "print(f'MAE: {mae}')\n",
    "print(f'R2: {r2}')\n",
    "\n",
    "print()\n",
    "print(\"*** 筛选后特征模型 - 训练集评估 ***\")\n",
    "mse = mean_squared_error(y_train, y_pred_train_selected)\n",
    "rmse = np.sqrt(mse)\n",
    "mae = mean_absolute_error(y_train, y_pred_train_selected)\n",
    "r2 = r2_score(y_train, y_pred_train_selected)\n",
    "print(f'MSE: {mse}')\n",
    "print(f'RMSE: {rmse}')\n",
    "print(f'MAE: {mae}')\n",
    "print(f'R2: {r2}')"
   ]
  },
  {
   "cell_type": "code",
   "execution_count": null,
   "id": "caeaf439",
   "metadata": {},
   "outputs": [],
   "source": []
  },
  {
   "cell_type": "code",
   "execution_count": null,
   "id": "41137ecb",
   "metadata": {},
   "outputs": [],
   "source": []
  },
  {
   "cell_type": "code",
   "execution_count": null,
   "id": "104cf6e0",
   "metadata": {},
   "outputs": [],
   "source": [
    "# # 将预测结果转换为涨跌信号\n",
    "# y_pred_direction = np.where(y_pred > 0, 1, -1)\n",
    "# y_test_direction = np.where(y_test_values > 0, 1, -1)\n",
    "# correct_predictions = (y_pred_direction == y_test_direction).astype(int)\n",
    "\n",
    "# # 计算普通准确率\n",
    "# accuracy = correct_predictions.mean()\n",
    "# print(f\"普通准确率: {accuracy:.4f}\")\n",
    "\n",
    "# # 计算按实际收益率绝对值加权的准确率\n",
    "# weights = np.abs(y_test_values)\n",
    "# weighted_correct = correct_predictions * weights\n",
    "# weighted_accuracy = weighted_correct.sum() / weights.sum()\n",
    "# print(f\"按收益率绝对值加权的准确率: {weighted_accuracy:.4f}\")\n",
    "\n",
    "\n",
    "# up_indices = y_test_values > 0\n",
    "# down_indices = y_test_values <= 0\n",
    "\n",
    "# if len(y_test_values[up_indices]) > 0:\n",
    "#     up_accuracy = correct_predictions[up_indices].mean()\n",
    "#     print(f\"上涨预测准确率: {up_accuracy:.4f} (样本数: {len(y_test_values[up_indices])})\")\n",
    "\n",
    "# if len(y_test_values[down_indices]) > 0:\n",
    "#     down_accuracy = correct_predictions[down_indices].mean()\n",
    "#     print(f\"下跌预测准确率: {down_accuracy:.4f} (样本数: {len(y_test_values[down_indices])})\")\n",
    "\n",
    "# # 可视化混淆矩阵\n",
    "# from sklearn.metrics import confusion_matrix\n",
    "# import matplotlib.pyplot as plt\n",
    "# import seaborn as sns\n",
    "\n",
    "# cm = confusion_matrix(y_test_direction, y_pred_direction)\n",
    "# plt.figure(figsize=(8, 6))\n",
    "# sns.heatmap(cm, annot=True, fmt='d', cmap='Blues', \n",
    "#             xticklabels=['down', 'up'], \n",
    "#             yticklabels=['down', 'up'])\n",
    "# plt.xlabel('pred')\n",
    "# plt.ylabel('true')\n",
    "# plt.title('confusion matrix')\n",
    "# plt.show()\n",
    "\n",
    "# avg_return_when_correct = y_test_values[correct_predictions == 1].mean()\n",
    "# avg_return_when_wrong = y_test_values[correct_predictions == 0].mean()\n",
    "\n",
    "# print(f\"预测正确时的平均收益率: {avg_return_when_correct:.6f}\")\n",
    "# print(f\"预测错误时的平均收益率: {avg_return_when_wrong:.6f}\")"
   ]
  },
  {
   "cell_type": "code",
   "execution_count": null,
   "id": "fc5a339f",
   "metadata": {},
   "outputs": [],
   "source": [
    "# from sklearn.model_selection import TimeSeriesSplit\n",
    "# from sklearn.metrics import mean_squared_error, r2_score\n",
    "# import numpy as np\n",
    "# import matplotlib.pyplot as plt\n",
    "\n",
    "# # 设置TimeSeriesSplit\n",
    "# n_splits = 5  # 分割次数\n",
    "# tscv = TimeSeriesSplit(n_splits=n_splits)\n",
    "\n",
    "# # 存储每次分割的评估结果\n",
    "# cv_scores = []\n",
    "# cv_predictions = []\n",
    "\n",
    "# plt.figure(figsize=(15, 10))\n",
    "\n",
    "# for i, (train_index, test_index) in enumerate(tscv.split(X_train)):\n",
    "#     # 获取当前折的训练和测试数据\n",
    "#     X_train_fold, X_test_fold = X_train.iloc[train_index], X_train.iloc[test_index]\n",
    "#     y_train_fold, y_test_fold = y_train.iloc[train_index], y_train.iloc[test_index]\n",
    "    \n",
    "#     # 训练模型\n",
    "#     fold_model = LGBMRegressor(n_jobs=1)\n",
    "#     fold_model.fit(X_train_fold, y_train_fold)\n",
    "    \n",
    "#     # 预测并评估\n",
    "#     y_pred_fold = fold_model.predict(X_test_fold)\n",
    "#     mse = mean_squared_error(y_test_fold, y_pred_fold)\n",
    "#     r2 = r2_score(y_test_fold, y_pred_fold)\n",
    "#     cv_scores.append({'fold': i+1, 'MSE': mse, 'R2': r2})\n",
    "    \n",
    "#     # 绘制每个时间窗口的预测结果\n",
    "#     plt.subplot(n_splits, 1, i+1)\n",
    "#     plt.plot(y_test_fold.values, label=f'True (Fold {i+1})', color='blue', linewidth=1)\n",
    "#     plt.plot(y_pred_fold, label=f'Predicted (Fold {i+1})', color='red', linewidth=1)\n",
    "#     plt.title(f'Fold {i+1}: MSE={mse:.6f}, R²={r2:.4f}')\n",
    "#     plt.legend()\n",
    "\n",
    "# plt.tight_layout()\n",
    "# plt.show()\n",
    "\n",
    "# # 打印每个折的评估结果\n",
    "# for score in cv_scores:\n",
    "#     print(f\"Fold {score['fold']}: MSE={score['MSE']:.6f}, R²={score['R2']:.4f}\")\n",
    "\n",
    "# # 计算平均评估指标\n",
    "# avg_mse = np.mean([score['MSE'] for score in cv_scores])\n",
    "# avg_r2 = np.mean([score['R2'] for score in cv_scores])\n",
    "# print(f\"\\n平均评估结果: MSE={avg_mse:.6f}, R²={avg_r2:.4f}\")"
   ]
  },
  {
   "cell_type": "code",
   "execution_count": null,
   "id": "80444a67",
   "metadata": {},
   "outputs": [],
   "source": [
    "# from sklearn.model_selection import GridSearchCV, TimeSeriesSplit\n",
    "# from lightgbm import LGBMRegressor\n",
    "# import numpy as np\n",
    "# import pandas as pd\n",
    "# import matplotlib.pyplot as plt\n",
    "\n",
    "# # 定义参数网格\n",
    "# param_grid = {\n",
    "#     'n_estimators': [100, 200, 300],\n",
    "#     'learning_rate': [0.01, 0.05, 0.1],\n",
    "#     'max_depth': [-1, 5, 7, 9],  # -1表示无限制\n",
    "#     'num_leaves': [31, 63, 127],\n",
    "#     'min_child_samples': [20, 30, 50],\n",
    "#     'subsample': [0.7, 0.8, 0.9],\n",
    "#     'colsample_bytree': [0.7, 0.8, 0.9],\n",
    "#     'reg_alpha': [0, 0.1, 0.5],\n",
    "#     'reg_lambda': [0, 0.1, 0.5]\n",
    "# }\n",
    "# def pearson_scorer(y_true, y_pred):\n",
    "#     try:\n",
    "#         corr, _ = pearsonr(y_true, y_pred)\n",
    "#         return corr if not np.isnan(corr) else 0.0\n",
    "#     except:\n",
    "#         return 0.0\n",
    "\n",
    "\n",
    "# # 更小的初始参数网格\n",
    "# small_param_grid = {\n",
    "#     'n_estimators': [100, 300],\n",
    "#     'learning_rate': [0.01, 0.1],\n",
    "#     'num_leaves': [31, 127],\n",
    "#     'subsample': [0.8, 1.0],\n",
    "# }\n",
    "\n",
    "# # 使用TimeSeriesSplit进行时间序列交叉验证\n",
    "# tscv = TimeSeriesSplit(n_splits=3)\n",
    "\n",
    "# # 初始化LGBMRegressor\n",
    "# lgbm = LGBMRegressor(n_jobs=-1, random_state=42)\n",
    "\n",
    "# # 创建GridSearchCV对象\n",
    "# grid_search = GridSearchCV(\n",
    "#     estimator=lgbm,\n",
    "#     param_grid=small_param_grid,  # 使用小参数网格开始\n",
    "#     cv=tscv,\n",
    "#     scoring=pearson_scorer, \n",
    "#     verbose=2,\n",
    "#     n_jobs=-1  # 使用所有可用CPU\n",
    "# )\n",
    "\n",
    "# grid_search.fit(X_train, y_train)\n",
    "\n",
    "# # 输出最佳参数\n",
    "# print(\"最佳参数组合:\")\n",
    "# for param, value in grid_search.best_params_.items():\n",
    "#     print(f\"{param}: {value}\")\n",
    "\n",
    "# print(f\"\\n最佳交叉验证分数: {-grid_search.best_score_:.6f} (MSE)\")\n",
    "\n",
    "# # 使用最佳参数创建模型\n",
    "# best_model = LGBMRegressor(**grid_search.best_params_, n_jobs=-1, random_state=42)\n",
    "# best_model.fit(X_train, y_train)\n",
    "\n",
    "# y_pred_best = best_model.predict(X_test)\n",
    "# mse_best = mean_squared_error(y_test, y_pred_best)\n",
    "# r2_best = r2_score(y_test, y_pred_best)\n",
    "\n",
    "# print(f\"\\n使用最佳参数的测试集表现:\")\n",
    "# print(f\"MSE: {mse_best:.6f}\")\n",
    "# print(f\"RMSE: {np.sqrt(mse_best):.6f}\")\n",
    "# print(f\"R²: {r2_best:.4f}\")\n"
   ]
  },
  {
   "cell_type": "code",
   "execution_count": null,
   "id": "1c83f4f3",
   "metadata": {},
   "outputs": [],
   "source": []
  }
 ],
 "metadata": {
  "kernelspec": {
   "display_name": "base",
   "language": "python",
   "name": "python3"
  },
  "language_info": {
   "codemirror_mode": {
    "name": "ipython",
    "version": 3
   },
   "file_extension": ".py",
   "mimetype": "text/x-python",
   "name": "python",
   "nbconvert_exporter": "python",
   "pygments_lexer": "ipython3",
   "version": "3.7.3"
  }
 },
 "nbformat": 4,
 "nbformat_minor": 5
}
